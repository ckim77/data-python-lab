{
 "cells": [
  {
   "cell_type": "code",
   "execution_count": 11,
   "id": "f6878c93",
   "metadata": {},
   "outputs": [],
   "source": [
    "import pandas as pd\n",
    "import matplotlib.pyplot as plt\n",
    "\n",
    "\n",
    "#3\n",
    "df = pd.read_csv(\"Cupcakeinvoices.csv\")"
   ]
  },
  {
   "cell_type": "code",
   "execution_count": 15,
   "id": "c303ac56",
   "metadata": {},
   "outputs": [
    {
     "name": "stdout",
     "output_type": "stream",
     "text": [
      "0      True\n",
      "1     False\n",
      "2      True\n",
      "3     False\n",
      "4      True\n",
      "5     False\n",
      "6     False\n",
      "7      True\n",
      "8     False\n",
      "9     False\n",
      "10     True\n",
      "11    False\n",
      "12    False\n",
      "13    False\n",
      "14     True\n",
      "15    False\n",
      "16     True\n",
      "17     True\n",
      "18    False\n",
      "19     True\n",
      "20    False\n",
      "Name: Type, dtype: bool\n"
     ]
    }
   ],
   "source": [
    "for row in df.itertuples():\n",
    "    chocoTotalPrice = row.Quantity"
   ]
  },
  {
   "cell_type": "code",
   "execution_count": null,
   "id": "840ef0ff",
   "metadata": {},
   "outputs": [],
   "source": []
  }
 ],
 "metadata": {
  "kernelspec": {
   "display_name": "Python 3 (ipykernel)",
   "language": "python",
   "name": "python3"
  },
  "language_info": {
   "codemirror_mode": {
    "name": "ipython",
    "version": 3
   },
   "file_extension": ".py",
   "mimetype": "text/x-python",
   "name": "python",
   "nbconvert_exporter": "python",
   "pygments_lexer": "ipython3",
   "version": "3.9.7"
  }
 },
 "nbformat": 4,
 "nbformat_minor": 5
}
